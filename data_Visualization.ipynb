{
  "cells": [
    {
      "cell_type": "markdown",
      "metadata": {
        "id": "h5f98aFLJZZe"
      },
      "source": [
        "# Notebook"
      ]
    },
    {
      "cell_type": "code",
      "execution_count": null,
      "metadata": {
        "id": "hc1mZhfGJhL1",
        "outputId": "470e753e-19ae-4dbc-8698-5761b281be1f",
        "colab": {
          "base_uri": "https://localhost:8080/"
        }
      },
      "outputs": [
        {
          "output_type": "stream",
          "name": "stdout",
          "text": [
            "Requirement already satisfied: ucimlrepo in /usr/local/lib/python3.10/dist-packages (0.0.3)\n"
          ]
        }
      ],
      "source": [
        "pip install ucimlrepo"
      ]
    },
    {
      "cell_type": "code",
      "source": [
        "from ucimlrepo import fetch_ucirepo\n",
        "\n",
        "# fetch dataset\n",
        "wine = fetch_ucirepo(id=109)\n",
        "\n",
        "# data (as pandas dataframes)\n",
        "X = wine.data.features\n",
        "y = wine.data.targets\n",
        "\n",
        "# metadata\n",
        "print(wine.metadata)\n",
        "\n",
        "# variable information\n",
        "print(wine.variables)\n"
      ],
      "metadata": {
        "id": "qBsYPhPbyj3B",
        "outputId": "a61a1740-e2d5-4be5-fdb1-ff37233ab621",
        "colab": {
          "base_uri": "https://localhost:8080/"
        }
      },
      "execution_count": null,
      "outputs": [
        {
          "output_type": "stream",
          "name": "stdout",
          "text": [
            "{'uci_id': 109, 'name': 'Wine', 'repository_url': 'https://archive.ics.uci.edu/dataset/109/wine', 'data_url': 'https://archive.ics.uci.edu/static/public/109/data.csv', 'abstract': 'Using chemical analysis to determine the origin of wines', 'area': 'Physics and Chemistry', 'tasks': ['Classification'], 'characteristics': ['Tabular'], 'num_instances': 178, 'num_features': 13, 'feature_types': ['Integer', 'Real'], 'demographics': [], 'target_col': ['class'], 'index_col': None, 'has_missing_values': 'no', 'missing_values_symbol': None, 'year_of_dataset_creation': 1992, 'last_updated': 'Mon Aug 28 2023', 'dataset_doi': '10.24432/C5PC7J', 'creators': ['Stefan Aeberhard', 'M. Forina'], 'intro_paper': {'title': 'Comparative analysis of statistical pattern recognition methods in high dimensional settings', 'authors': 'S. Aeberhard, D. Coomans, O. Vel', 'published_in': 'Pattern Recognition', 'year': 1994, 'url': 'https://www.semanticscholar.org/paper/83dc3e4030d7b9fbdbb4bde03ce12ab70ca10528', 'doi': '10.1016/0031-3203(94)90145-7'}, 'additional_info': {'summary': 'These data are the results of a chemical analysis of wines grown in the same region in Italy but derived from three different cultivars. The analysis determined the quantities of 13 constituents found in each of the three types of wines. \\r\\n\\r\\nI think that the initial data set had around 30 variables, but for some reason I only have the 13 dimensional version. I had a list of what the 30 or so variables were, but a.)  I lost it, and b.), I would not know which 13 variables are included in the set.\\r\\n\\r\\nThe attributes are (dontated by Riccardo Leardi, riclea@anchem.unige.it )\\r\\n1) Alcohol\\r\\n2) Malic acid\\r\\n3) Ash\\r\\n4) Alcalinity of ash  \\r\\n5) Magnesium\\r\\n6) Total phenols\\r\\n7) Flavanoids\\r\\n8) Nonflavanoid phenols\\r\\n9) Proanthocyanins\\r\\n10)Color intensity\\r\\n11)Hue\\r\\n12)OD280/OD315 of diluted wines\\r\\n13)Proline \\r\\n\\r\\nIn a classification context, this is a well posed problem with \"well behaved\" class structures. A good data set for first testing of a new classifier, but not very challenging.           ', 'purpose': 'test', 'funded_by': None, 'instances_represent': None, 'recommended_data_splits': None, 'sensitive_data': None, 'preprocessing_description': None, 'variable_info': 'All attributes are continuous\\r\\n\\t\\r\\nNo statistics available, but suggest to standardise variables for certain uses (e.g. for us with classifiers which are NOT scale invariant)\\r\\n\\r\\nNOTE: 1st attribute is class identifier (1-3)', 'citation': None}}\n",
            "                            name     role         type demographic  \\\n",
            "0                          class   Target  Categorical        None   \n",
            "1                        Alcohol  Feature   Continuous        None   \n",
            "2                      Malicacid  Feature   Continuous        None   \n",
            "3                            Ash  Feature   Continuous        None   \n",
            "4              Alcalinity_of_ash  Feature   Continuous        None   \n",
            "5                      Magnesium  Feature      Integer        None   \n",
            "6                  Total_phenols  Feature   Continuous        None   \n",
            "7                     Flavanoids  Feature   Continuous        None   \n",
            "8           Nonflavanoid_phenols  Feature   Continuous        None   \n",
            "9                Proanthocyanins  Feature   Continuous        None   \n",
            "10               Color_intensity  Feature   Continuous        None   \n",
            "11                           Hue  Feature   Continuous        None   \n",
            "12  0D280_0D315_of_diluted_wines  Feature   Continuous        None   \n",
            "13                       Proline  Feature      Integer        None   \n",
            "\n",
            "   description units missing_values  \n",
            "0         None  None             no  \n",
            "1         None  None             no  \n",
            "2         None  None             no  \n",
            "3         None  None             no  \n",
            "4         None  None             no  \n",
            "5         None  None             no  \n",
            "6         None  None             no  \n",
            "7         None  None             no  \n",
            "8         None  None             no  \n",
            "9         None  None             no  \n",
            "10        None  None             no  \n",
            "11        None  None             no  \n",
            "12        None  None             no  \n",
            "13        None  None             no  \n"
          ]
        }
      ]
    },
    {
      "cell_type": "code",
      "source": [
        "import pandas as pd\n",
        "\n",
        "df = pd.DataFrame(data=wine.data.features, columns=wine.data.feature_names)\n",
        "df['target'] = wine.data.targets\n",
        "\n",
        "# Data types\n",
        "print(df.dtypes)\n",
        "\n",
        "# Basic statistics\n",
        "print(df.describe())\n",
        "\n",
        "print(df.head())"
      ],
      "metadata": {
        "id": "OKBYUKitysun",
        "outputId": "390b93d7-deca-40e2-b5c6-6298f941cc95",
        "colab": {
          "base_uri": "https://localhost:8080/"
        }
      },
      "execution_count": null,
      "outputs": [
        {
          "output_type": "stream",
          "name": "stdout",
          "text": [
            "Alcohol                         float64\n",
            "Malicacid                       float64\n",
            "Ash                             float64\n",
            "Alcalinity_of_ash               float64\n",
            "Magnesium                         int64\n",
            "Total_phenols                   float64\n",
            "Flavanoids                      float64\n",
            "Nonflavanoid_phenols            float64\n",
            "Proanthocyanins                 float64\n",
            "Color_intensity                 float64\n",
            "Hue                             float64\n",
            "0D280_0D315_of_diluted_wines    float64\n",
            "Proline                           int64\n",
            "target                            int64\n",
            "dtype: object\n",
            "          Alcohol   Malicacid         Ash  Alcalinity_of_ash   Magnesium  \\\n",
            "count  178.000000  178.000000  178.000000         178.000000  178.000000   \n",
            "mean    13.000618    2.336348    2.366517          19.494944   99.741573   \n",
            "std      0.811827    1.117146    0.274344           3.339564   14.282484   \n",
            "min     11.030000    0.740000    1.360000          10.600000   70.000000   \n",
            "25%     12.362500    1.602500    2.210000          17.200000   88.000000   \n",
            "50%     13.050000    1.865000    2.360000          19.500000   98.000000   \n",
            "75%     13.677500    3.082500    2.557500          21.500000  107.000000   \n",
            "max     14.830000    5.800000    3.230000          30.000000  162.000000   \n",
            "\n",
            "       Total_phenols  Flavanoids  Nonflavanoid_phenols  Proanthocyanins  \\\n",
            "count     178.000000  178.000000            178.000000       178.000000   \n",
            "mean        2.295112    2.029270              0.361854         1.590899   \n",
            "std         0.625851    0.998859              0.124453         0.572359   \n",
            "min         0.980000    0.340000              0.130000         0.410000   \n",
            "25%         1.742500    1.205000              0.270000         1.250000   \n",
            "50%         2.355000    2.135000              0.340000         1.555000   \n",
            "75%         2.800000    2.875000              0.437500         1.950000   \n",
            "max         3.880000    5.080000              0.660000         3.580000   \n",
            "\n",
            "       Color_intensity         Hue  0D280_0D315_of_diluted_wines      Proline  \\\n",
            "count       178.000000  178.000000                    178.000000   178.000000   \n",
            "mean          5.058090    0.957449                      2.611685   746.893258   \n",
            "std           2.318286    0.228572                      0.709990   314.907474   \n",
            "min           1.280000    0.480000                      1.270000   278.000000   \n",
            "25%           3.220000    0.782500                      1.937500   500.500000   \n",
            "50%           4.690000    0.965000                      2.780000   673.500000   \n",
            "75%           6.200000    1.120000                      3.170000   985.000000   \n",
            "max          13.000000    1.710000                      4.000000  1680.000000   \n",
            "\n",
            "           target  \n",
            "count  178.000000  \n",
            "mean     1.938202  \n",
            "std      0.775035  \n",
            "min      1.000000  \n",
            "25%      1.000000  \n",
            "50%      2.000000  \n",
            "75%      3.000000  \n",
            "max      3.000000  \n",
            "   Alcohol  Malicacid   Ash  Alcalinity_of_ash  Magnesium  Total_phenols  \\\n",
            "0    14.23       1.71  2.43               15.6        127           2.80   \n",
            "1    13.20       1.78  2.14               11.2        100           2.65   \n",
            "2    13.16       2.36  2.67               18.6        101           2.80   \n",
            "3    14.37       1.95  2.50               16.8        113           3.85   \n",
            "4    13.24       2.59  2.87               21.0        118           2.80   \n",
            "\n",
            "   Flavanoids  Nonflavanoid_phenols  Proanthocyanins  Color_intensity   Hue  \\\n",
            "0        3.06                  0.28             2.29             5.64  1.04   \n",
            "1        2.76                  0.26             1.28             4.38  1.05   \n",
            "2        3.24                  0.30             2.81             5.68  1.03   \n",
            "3        3.49                  0.24             2.18             7.80  0.86   \n",
            "4        2.69                  0.39             1.82             4.32  1.04   \n",
            "\n",
            "   0D280_0D315_of_diluted_wines  Proline  target  \n",
            "0                          3.92     1065       1  \n",
            "1                          3.40     1050       1  \n",
            "2                          3.17     1185       1  \n",
            "3                          3.45     1480       1  \n",
            "4                          2.93      735       1  \n"
          ]
        }
      ]
    },
    {
      "cell_type": "code",
      "source": [
        "!pip uninstall ydata_profiling\n",
        "!pip install ydata_profiling"
      ],
      "metadata": {
        "id": "R0ep4t8r4Z4V",
        "outputId": "4365296f-4342-4319-a6f7-43f845c3b1ed",
        "colab": {
          "base_uri": "https://localhost:8080/"
        }
      },
      "execution_count": null,
      "outputs": [
        {
          "metadata": {
            "tags": null
          },
          "name": "stdout",
          "output_type": "stream",
          "text": [
            "Found existing installation: ydata-profiling 4.6.4\n",
            "Uninstalling ydata-profiling-4.6.4:\n",
            "  Would remove:\n",
            "    /usr/local/bin/pandas_profiling\n",
            "    /usr/local/bin/ydata_profiling\n",
            "    /usr/local/lib/python3.10/dist-packages/pandas_profiling/*\n",
            "    /usr/local/lib/python3.10/dist-packages/ydata_profiling-4.6.4.dist-info/*\n",
            "    /usr/local/lib/python3.10/dist-packages/ydata_profiling/*\n",
            "Proceed (Y/n)? "
          ]
        }
      ]
    },
    {
      "cell_type": "code",
      "source": [
        "import pandas as pd\n",
        "from ydata_profiling import ProfileReport\n",
        "\n",
        "profile = ProfileReport(df, title=\"Profiling Report\")\n",
        "profile.to_notebook_iframe()"
      ],
      "metadata": {
        "id": "u9N6OHeh4inW"
      },
      "execution_count": null,
      "outputs": []
    },
    {
      "cell_type": "code",
      "source": [
        "# Analyze key data quality metrics such as completeness, uniqueness, and missing values.\n",
        "completeness = df.describe(include='all').transpose()[['count']]\n",
        "total_rows = df.shape[0]\n",
        "completeness_percentage = (completeness / total_rows) * 100\n",
        "\n",
        "uniqueness = df.nunique()\n",
        "missingValues = df.isnull().sum()\n",
        "\n",
        "print('completeness (%)')\n",
        "print(completeness_percentage)\n",
        "print('\\n')\n",
        "print('uniqueness')\n",
        "print(uniqueness)\n",
        "print('\\n')\n",
        "print('missingValues')\n",
        "print(missingValues)\n",
        "print('\\n')"
      ],
      "metadata": {
        "id": "5cvX0CSg6lYd"
      },
      "execution_count": null,
      "outputs": []
    },
    {
      "cell_type": "code",
      "source": [
        "# Explore the distribution of each chemical feature\n",
        "import matplotlib.pyplot as plt\n",
        "chefeatures = df.drop(columns=['target'])\n",
        "\n",
        "for feature in chefeatures.columns:\n",
        "    plt.figure(figsize=(8, 6))\n",
        "    plt.hist(chefeatures[feature], bins=20, alpha=0.7)\n",
        "    plt.title(f'Distribution of {feature}')\n",
        "    plt.xlabel(feature)\n",
        "    plt.ylabel('Frequency')\n",
        "    plt.show()"
      ],
      "metadata": {
        "id": "tIk5fSdE6AHZ"
      },
      "execution_count": null,
      "outputs": []
    },
    {
      "cell_type": "code",
      "source": [
        "# Calculate correlations between different chemical features.\n",
        "chefeatures = df.drop(columns=['target'])\n",
        "correlation_matrix = chefeatures.corr()\n",
        "print(correlation_matrix)\n"
      ],
      "metadata": {
        "id": "seXYTbHm_RGT"
      },
      "execution_count": null,
      "outputs": []
    },
    {
      "cell_type": "code",
      "source": [
        "# Identify patterns, summary statistics, and potential outliers related to the chemical features.\n",
        "import seaborn as sns\n",
        "chefeatures = df.drop(columns=['target'])\n",
        "\n",
        "# Identify patterns\n",
        "sns.pairplot(data=chefeatures)\n",
        "plt.suptitle('Chemical Features')\n",
        "plt.show()\n",
        "\n",
        "# Summary statistics\n",
        "print(chefeatures.describe())\n",
        "\n",
        "# Identify potential outliers\n",
        "plt.figure(figsize=(12, 8))\n",
        "sns.boxplot(data=chefeatures, orient='v', palette='Set1')\n",
        "plt.title('Chemical Features')\n",
        "plt.ylabel('Values')\n",
        "plt.xticks(rotation=45, ha='right')\n",
        "plt.show()"
      ],
      "metadata": {
        "id": "EoTog2k8D7aV"
      },
      "execution_count": null,
      "outputs": []
    },
    {
      "cell_type": "code",
      "source": [
        "# Use either Seaborn Plotly or both to generate some useful data vsiaulizations.\n",
        "import plotly.express as px\n",
        "\n",
        "fig = px.scatter_3d(df, x='Alcohol', y='Malicacid', z='Ash', color='target', size_max=5)\n",
        "fig.update_layout(title_text='Chemical Features', scene=dict(zaxis=dict(title='Ash')))\n",
        "fig.show()"
      ],
      "metadata": {
        "id": "NDUR197BaQZH"
      },
      "execution_count": null,
      "outputs": []
    },
    {
      "cell_type": "code",
      "source": [
        "# Create scatter plots or pair plots to visually inspect relationships between different chemical features.\n",
        "import plotly.express as px\n",
        "# Scatter plot with Plotly\n",
        "sample = df.sample(50)\n",
        "fig = px.scatter(\n",
        "  sample, x=\"Total_phenols\", y=\"Flavanoids\"\n",
        ")\n",
        "fig.update_layout(title_text='Correlations  between Total_phenols and Flavanoids')\n",
        "fig.show()"
      ],
      "metadata": {
        "id": "7WdCcMylVI2x"
      },
      "execution_count": null,
      "outputs": []
    },
    {
      "cell_type": "code",
      "source": [
        "# Implement box plots or violin plots to highlight chemical feature distributions.\n",
        "plt.figure(figsize=(12, 8))\n",
        "sns.violinplot(data=chefeatures, palette='Set2')\n",
        "plt.title('Seaborn Violin Plot of Chemical Features')\n",
        "plt.ylabel('Values')\n",
        "plt.xticks(rotation=45, ha='right')\n",
        "plt.show()"
      ],
      "metadata": {
        "id": "_xAc489JbfqQ"
      },
      "execution_count": null,
      "outputs": []
    },
    {
      "cell_type": "code",
      "source": [
        "# Utilize appropriate visualizations to showcase any insights gained during the EDA and data profiling stages.\n",
        "# => To identify the top contributors to the target variable\n",
        "\n",
        "from sklearn.ensemble import RandomForestClassifier\n",
        "model = RandomForestClassifier()\n",
        "model.fit(X, y)\n",
        "\n",
        "feature_importances = model.feature_importances_\n",
        "feature_names = X.columns\n",
        "feature_importance_df = pd.DataFrame({'Feature': feature_names, 'Importance': feature_importances})\n",
        "feature_importance_df = feature_importance_df[feature_importance_df['Feature'] != 'target']\n",
        "top_features = feature_importance_df.sort_values(by='Importance', ascending=False).head(3)\n",
        "\n",
        "plt.figure(figsize=(10, 6))\n",
        "sns.barplot(x='Importance', y='Feature', data=top_features)\n",
        "plt.title('Top 3 Contributors to Target')\n",
        "plt.show()"
      ],
      "metadata": {
        "id": "DWdDfyUSix2u"
      },
      "execution_count": null,
      "outputs": []
    }
  ],
  "metadata": {
    "colab": {
      "provenance": []
    },
    "kernelspec": {
      "display_name": "Python 3",
      "name": "python3"
    },
    "language_info": {
      "name": "python"
    }
  },
  "nbformat": 4,
  "nbformat_minor": 0
}
